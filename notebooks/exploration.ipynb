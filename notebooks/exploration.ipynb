{
 "cells": [
  {
   "cell_type": "code",
   "execution_count": 2,
   "metadata": {},
   "outputs": [],
   "source": [
    "import numpy as np\n",
    "import pandas as pd\n",
    "from scipy.stats import norm\n",
    "import matplotlib.pyplot as plt"
   ]
  },
  {
   "cell_type": "code",
   "execution_count": 10,
   "metadata": {},
   "outputs": [],
   "source": [
    "## First challenge: With general framework before improvements\n",
    "\n",
    "def black_scholes_price(S,K,T,r,sigma, call = True):\n",
    "    d1 = (np.log(S/K) + (r + 0.5 * sigma**2)*T) / (sigma * (T**0.5))\n",
    "    d2 = (d1 - sigma*T**0.5)\n",
    "    if call:\n",
    "        return S * norm.cdf(d1) - K * np.exp(-r*T)*norm.cdf(d2)\n",
    "    else:\n",
    "        return K * np.exp(-r*T) * norm.cdf(-d2) - S * norm.cdf(-d1)"
   ]
  },
  {
   "cell_type": "code",
   "execution_count": 11,
   "metadata": {},
   "outputs": [
    {
     "name": "stdout",
     "output_type": "stream",
     "text": [
      "10.675324824802793\n"
     ]
    }
   ],
   "source": [
    "# Testing BS function\n",
    "\n",
    "S = 100\n",
    "K = 110\n",
    "T = 1\n",
    "r = 0.05\n",
    "sigma = 0.2\n",
    "\n",
    "print(black_scholes_price(S,K,T,r,sigma, call = False))"
   ]
  },
  {
   "cell_type": "code",
   "execution_count": 12,
   "metadata": {},
   "outputs": [],
   "source": [
    "def implied_volatility(market_price, S, K, T, r, call = True, tol =1e-6, max_iter = 1000):\n",
    "    # Initial guesses\n",
    "    sigma = 0.2\n",
    "    for _ in range(max_iter):\n",
    "        # Calculate the option price with the current sigma\n",
    "        bs_price = black_scholes_price(S, K, T, r, sigma, call)\n",
    "        # Derivative of Black-Scholes price with respect to sigma (vega)\n",
    "        d1 = (np.log(S / K) + (r + 0.5 * sigma**2) * T) / (sigma * np.sqrt(T))\n",
    "        vega = S * norm.pdf(d1) * np.sqrt(T)  # PDF of d1\n",
    "\n",
    "        # Update sigma using Newton-Raphson\n",
    "        sigma_new = sigma - (bs_price - market_price) / vega\n",
    "        if abs(sigma_new - sigma) < tol:\n",
    "            return sigma_new\n",
    "        sigma = sigma_new\n",
    "    raise ValueError(\"Implied volatility did not converge\")"
   ]
  },
  {
   "cell_type": "code",
   "execution_count": 23,
   "metadata": {},
   "outputs": [
    {
     "name": "stdout",
     "output_type": "stream",
     "text": [
      "0.19898695408537717\n"
     ]
    }
   ],
   "source": [
    "# Testing Implied volatility\n",
    "\n",
    "market_prices = 6\n",
    "\n",
    "implied_vols = implied_volatility(market_price = market_prices, S=S, K=K, T=T, r=r) \n",
    "\n",
    "print(implied_vols)"
   ]
  },
  {
   "cell_type": "code",
   "execution_count": 24,
   "metadata": {},
   "outputs": [],
   "source": [
    "# Batch implied volatility calculation\n",
    "\n",
    "from datetime import datetime\n",
    "\n",
    "def calculate_time_to_maturity(expiry):\n",
    "    expiry_date = datetime.strptime(expiry, \"%Y-%m-%d\")\n",
    "    today = datetime.now()\n",
    "    return (expiry_date - today).days / 365.0\n"
   ]
  },
  {
   "cell_type": "code",
   "execution_count": null,
   "metadata": {},
   "outputs": [],
   "source": []
  }
 ],
 "metadata": {
  "kernelspec": {
   "display_name": "Python 3",
   "language": "python",
   "name": "python3"
  },
  "language_info": {
   "codemirror_mode": {
    "name": "ipython",
    "version": 3
   },
   "file_extension": ".py",
   "mimetype": "text/x-python",
   "name": "python",
   "nbconvert_exporter": "python",
   "pygments_lexer": "ipython3",
   "version": "3.13.1"
  }
 },
 "nbformat": 4,
 "nbformat_minor": 2
}
